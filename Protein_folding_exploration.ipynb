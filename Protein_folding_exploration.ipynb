{
  "nbformat": 4,
  "nbformat_minor": 0,
  "metadata": {
    "colab": {
      "name": "Protein_folding_exploration.ipynb",
      "provenance": [],
      "collapsed_sections": [],
      "authorship_tag": "ABX9TyMpfYjtOzWSg5AMJKYy792z",
      "include_colab_link": true
    },
    "kernelspec": {
      "name": "python3",
      "display_name": "Python 3"
    }
  },
  "cells": [
    {
      "cell_type": "markdown",
      "metadata": {
        "id": "view-in-github",
        "colab_type": "text"
      },
      "source": [
        "<a href=\"https://colab.research.google.com/github/pcummer/deep_learning_short_projects/blob/main/Protein_folding_exploration.ipynb\" target=\"_parent\"><img src=\"https://colab.research.google.com/assets/colab-badge.svg\" alt=\"Open In Colab\"/></a>"
      ]
    },
    {
      "cell_type": "markdown",
      "metadata": {
        "id": "CyDhPFRLAanB"
      },
      "source": [
        "**Very initial work**\n",
        "\n",
        "This is an exploratory project to play around with applying various NLP techniques to predict the secondary structure of a protein from the amino acid sequence. Right now, I just have the foundation of loading the data and training a toy model. \n",
        "\n",
        "There's a lot of directions to take this with likely highlights being deploying a proper NLP model like a biLSTM with randomly initialized embeddings for the amino acids, exploring those embeddings to see if they capture the similarities we'd expect i.e. arginine and lysine are close in that space, and incorporating biophysical properties of the amino acids such as electronegativity and flags for special amino acids such as proline.\n",
        "\n",
        "We won't worry about optimizing the details of model architecture and training for the most part. If we end up with something particularly high performing we may dig into it."
      ]
    },
    {
      "cell_type": "code",
      "metadata": {
        "id": "PK-hBf0ndpvf"
      },
      "source": [
        "!wget https://archive.ics.uci.edu/ml/machine-learning-databases/molecular-biology/protein-secondary-structure/protein-secondary-structure.train\n",
        "!wget https://archive.ics.uci.edu/ml/machine-learning-databases/molecular-biology/protein-secondary-structure/protein-secondary-structure.test"
      ],
      "execution_count": null,
      "outputs": []
    },
    {
      "cell_type": "code",
      "metadata": {
        "id": "H4qbPeYxeTwn"
      },
      "source": [
        "import pandas as pd\n",
        "import numpy as np\n",
        "\n",
        "def parse_to_df(path):\n",
        "  with open(path,'r') as f:\n",
        "    content = f.readlines()\n",
        "  df = pd.DataFrame()\n",
        "  protein_count = 0\n",
        "  amino_acids = []\n",
        "  structure = []\n",
        "  for i in content:\n",
        "    i = i.strip()\n",
        "    if 'end' in i:\n",
        "        df = df.append(pd.DataFrame({'amino_acid':[amino_acids], 'structure':[structure], 'protein_count':[protein_count]}))\n",
        "        protein_count += 1\n",
        "        amino_acids = []\n",
        "        structure = []\n",
        "    elif len(i) == 3:\n",
        "      amino_acids.append(i.split(' ')[0])\n",
        "      structure.append(i.split(' ')[1])\n",
        "  return df"
      ],
      "execution_count": 132,
      "outputs": []
    },
    {
      "cell_type": "markdown",
      "metadata": {
        "id": "dYiBkP1H9cU9"
      },
      "source": [
        "Here we load the text files for the train and test splits into easily accessed dataframes. We also also assign an index to each amino acid and structure to replace the text character."
      ]
    },
    {
      "cell_type": "code",
      "metadata": {
        "id": "fcdRguigfH6z"
      },
      "source": [
        "df_train_raw = parse_to_df('/content/protein-secondary-structure.train')\n",
        "df_test_raw = parse_to_df('/content/protein-secondary-structure.test')\n",
        "\n",
        "\n",
        "unique_amino_acids_in_train = np.unique([item for sublist in df_train_raw.amino_acid for item in sublist])\n",
        "unique_amino_acids_in_test = np.unique([item for sublist in df_test_raw.amino_acid for item in sublist])\n",
        "[unique_amino_acids_in_train.append(x) for x in unique_amino_acids_in_test if x not in unique_amino_acids_in_train]\n",
        "\n",
        "amino_acid_to_index = {}\n",
        "i=0\n",
        "for x in unique_amino_acids_in_train:\n",
        "  amino_acid_to_index[x] = i\n",
        "  i += 1\n",
        "\n",
        "\n",
        "structure_to_index = {'_': 0, 'h': 1, 'e': 2}\n",
        "\n",
        "df_train_raw['amino_acid_index'] = [[amino_acid_to_index[x] for x in y] for y in df_train_raw.amino_acid]\n",
        "df_test_raw['amino_acid_index'] = [[amino_acid_to_index[x] for x in y] for y in df_test_raw.amino_acid]\n",
        "df_train_raw['structure_index'] = [[structure_to_index[x] for x in y] for y in df_train_raw.structure]\n",
        "df_test_raw['structure_index'] = [[structure_to_index[x] for x in y] for y in df_test_raw.structure]"
      ],
      "execution_count": 133,
      "outputs": []
    },
    {
      "cell_type": "code",
      "metadata": {
        "id": "DDNK5X0C9_gj"
      },
      "source": [
        "class basicGenerator(tf.keras.utils.Sequence):\n",
        "    def __init__(self, df, shuffle=True, batch_size=1):\n",
        "      self.df = df\n",
        "      self.shuffle = shuffle\n",
        "      self.batch_size = batch_size\n",
        "      self.on_epoch_end()\n",
        "\n",
        "    def __len__(self):\n",
        "        return int(np.floor(len(self.df) / self.batch_size))\n",
        "\n",
        "    def on_epoch_end(self):\n",
        "        if self.shuffle:\n",
        "            self.df = self.df.sample(frac=1.0)\n",
        "\n",
        "    def __getitem__(self, index):\n",
        "        indexes = np.arange(index * self.batch_size, (index + 1) * self.batch_size)\n",
        "        batch_input = []\n",
        "        batch_target = []\n",
        "        for i in indexes:\n",
        "            amino_acid_sequence = self.df.amino_acid_index.iloc[i]\n",
        "            label_sequence = self.df.structure_index.iloc[i]\n",
        "            batch_input.append(amino_acid_sequence)\n",
        "            batch_target.append(label_sequence)\n",
        "\n",
        "        batch_input = np.stack(batch_input)\n",
        "        batch_target = np.array(batch_target)\n",
        "\n",
        "        return batch_input, batch_target\n"
      ],
      "execution_count": 134,
      "outputs": []
    },
    {
      "cell_type": "code",
      "metadata": {
        "id": "yGAlvDB3_Gep"
      },
      "source": [
        "train_generator = basicGenerator(df_train_raw)\n",
        "test_generator = basicGenerator(df_test_raw)"
      ],
      "execution_count": 135,
      "outputs": []
    },
    {
      "cell_type": "markdown",
      "metadata": {
        "id": "cRNIT1dh90gx"
      },
      "source": [
        "Here we test a toy model to confirm that our data loading and formatting has worked as expected."
      ]
    },
    {
      "cell_type": "code",
      "metadata": {
        "id": "d85VeJeR1z8_"
      },
      "source": [
        "import tensorflow as tf\n",
        "\n",
        "input = tf.keras.layers.Input((None, 1))\n",
        "output = tf.keras.layers.LSTM(3, return_sequences=True, activation='softmax')(input)\n",
        "\n",
        "toy_model = tf.keras.models.Model(inputs=[input], outputs=[output])\n",
        "toy_model.compile(optimizer='adam', loss='sparse_categorical_crossentropy', metrics=['acc'])"
      ],
      "execution_count": 136,
      "outputs": []
    },
    {
      "cell_type": "code",
      "metadata": {
        "id": "uZ3PMdAM3blm"
      },
      "source": [
        "toy_model.fit(train_generator, validation_data=test_generator, epochs=10)"
      ],
      "execution_count": null,
      "outputs": []
    },
    {
      "cell_type": "code",
      "metadata": {
        "id": "hHKC51f_Y4Fo",
        "outputId": "227899fd-eae9-4f2b-cbfa-9f45b2d4e500",
        "colab": {
          "base_uri": "https://localhost:8080/"
        }
      },
      "source": [
        "from sklearn.metrics import classification_report\n",
        "\n",
        "predictions = [toy_model.predict(x) for x in test_generator]\n",
        "print(classification_report([z for _, y in test_generator for x in y for z in x], [np.argmax(z) for y in predictions for x in y for z in x], target_names=['no_structure', 'alpha_helix', 'beta_sheet']))"
      ],
      "execution_count": 138,
      "outputs": [
        {
          "output_type": "stream",
          "text": [
            "              precision    recall  f1-score   support\n",
            "\n",
            "           0       0.55      0.99      0.70      1923\n",
            "           1       1.00      0.00      0.00       849\n",
            "           2       0.28      0.01      0.02       748\n",
            "\n",
            "    accuracy                           0.54      3520\n",
            "   macro avg       0.61      0.33      0.24      3520\n",
            "weighted avg       0.60      0.54      0.39      3520\n",
            "\n"
          ],
          "name": "stdout"
        }
      ]
    },
    {
      "cell_type": "markdown",
      "metadata": {
        "id": "5Xxc-lLJamcp"
      },
      "source": [
        "Unsurprisingly, our performance on the validation set is essentially equivalent to the majority baseline (i.e. guessing no structure for every amino acid). Now comes the fun part where we move to a real model and start pushing our performance. "
      ]
    },
    {
      "cell_type": "code",
      "metadata": {
        "id": "EgXp8Y6xZp1G"
      },
      "source": [
        "model = tf.keras.models.Sequential()\n",
        "model.add(tf.keras.layers.Embedding(len(unique_amino_acids_in_train), 4))\n",
        "model.add(tf.keras.layers.LSTM(3, return_sequences=True, activation='softmax'))\n",
        "model.compile(optimizer='adam', loss='sparse_categorical_crossentropy', metrics=['acc'])"
      ],
      "execution_count": 144,
      "outputs": []
    },
    {
      "cell_type": "code",
      "metadata": {
        "id": "iNHEkO5rlvvw"
      },
      "source": [
        "model.fit(train_generator, validation_data=test_generator, epochs=40)"
      ],
      "execution_count": null,
      "outputs": []
    },
    {
      "cell_type": "code",
      "metadata": {
        "id": "fUp7GbYFnAJL",
        "outputId": "5801b1f9-8a12-4da4-be28-88223e355e68",
        "colab": {
          "base_uri": "https://localhost:8080/"
        }
      },
      "source": [
        "predictions = [model.predict(x) for x in test_generator]\n",
        "print(classification_report([z for _, y in test_generator for x in y for z in x], [np.argmax(z) for y in predictions for x in y for z in x], target_names=['no_structure', 'alpha_helix', 'beta_sheet']))"
      ],
      "execution_count": 146,
      "outputs": [
        {
          "output_type": "stream",
          "text": [
            "              precision    recall  f1-score   support\n",
            "\n",
            "           0       0.60      0.87      0.71      1923\n",
            "           1       0.42      0.26      0.32       849\n",
            "           2       0.45      0.10      0.17       748\n",
            "\n",
            "    accuracy                           0.56      3520\n",
            "   macro avg       0.49      0.41      0.40      3520\n",
            "weighted avg       0.52      0.56      0.50      3520\n",
            "\n"
          ],
          "name": "stdout"
        }
      ]
    },
    {
      "cell_type": "markdown",
      "metadata": {
        "id": "mnhXsaU2nKPO"
      },
      "source": [
        "Just adding in the randomly initialized embedding layer has moved us to a model that's beginning to train meaningfully. The overall accuracy is only slightly improved, but the macro f1 is massively improved as the model now makes an attempt at guessing the minority classes.\n",
        "\n",
        "The plateauing of the model performance on the train set indicates that we don't have sufficient model complexity (or sufficiently rich inputs) to to fit this data. Expanding model complexity is easier than enriching the data so we'll start there."
      ]
    },
    {
      "cell_type": "code",
      "metadata": {
        "id": "yKhIOrxUFZ_a"
      },
      "source": [
        "model = tf.keras.models.Sequential()\n",
        "model.add(tf.keras.layers.Embedding(len(unique_amino_acids_in_train), 4))\n",
        "model.add(tf.keras.layers.LSTM(4, return_sequences=True, activation='relu'))\n",
        "model.add(tf.keras.layers.TimeDistributed(tf.keras.layers.Dense(3, activation='softmax')))\n",
        "model.compile(optimizer='adam', loss='sparse_categorical_crossentropy', metrics=['acc'])"
      ],
      "execution_count": 158,
      "outputs": []
    },
    {
      "cell_type": "code",
      "metadata": {
        "id": "ofTvkw2NFxfD"
      },
      "source": [
        "model.fit(train_generator, validation_data=test_generator, epochs=40)"
      ],
      "execution_count": null,
      "outputs": []
    },
    {
      "cell_type": "code",
      "metadata": {
        "id": "Eek8WEemNC4N",
        "outputId": "15a3981a-ccf6-4b16-ccb2-a7181920d52d",
        "colab": {
          "base_uri": "https://localhost:8080/"
        }
      },
      "source": [
        "predictions = [model.predict(x) for x in test_generator]\n",
        "print(classification_report([z for _, y in test_generator for x in y for z in x], [np.argmax(z) for y in predictions for x in y for z in x], target_names=['no_structure', 'alpha_helix', 'beta_sheet']))"
      ],
      "execution_count": 160,
      "outputs": [
        {
          "output_type": "stream",
          "text": [
            "              precision    recall  f1-score   support\n",
            "\n",
            "           0       0.63      0.80      0.70      1923\n",
            "           1       0.43      0.37      0.40       849\n",
            "           2       0.42      0.19      0.26       748\n",
            "\n",
            "    accuracy                           0.57      3520\n",
            "   macro avg       0.49      0.45      0.45      3520\n",
            "weighted avg       0.54      0.57      0.54      3520\n",
            "\n"
          ],
          "name": "stdout"
        }
      ]
    },
    {
      "cell_type": "markdown",
      "metadata": {
        "id": "8V12WxutPiVc"
      },
      "source": [
        "We've got more overfitting with the extra capacity, but not a significant performance increase. We can now enrich the input data simply by swapping to a biLSTM. This allows each prediction to look at the following amino acids in addition to the prior amino acids."
      ]
    },
    {
      "cell_type": "code",
      "metadata": {
        "id": "YmfqVBwNP2Ut"
      },
      "source": [
        "model = tf.keras.models.Sequential()\n",
        "model.add(tf.keras.layers.Embedding(len(unique_amino_acids_in_train), 4))\n",
        "model.add(tf.keras.layers.Bidirectional(tf.keras.layers.LSTM(4, return_sequences=True, activation='relu')))\n",
        "model.add(tf.keras.layers.TimeDistributed(tf.keras.layers.Dense(3, activation='softmax')))\n",
        "model.compile(optimizer='adam', loss='sparse_categorical_crossentropy', metrics=['acc'])"
      ],
      "execution_count": 162,
      "outputs": []
    },
    {
      "cell_type": "code",
      "metadata": {
        "id": "vJ0EEzfiQGB9"
      },
      "source": [
        "model.fit(train_generator, validation_data=test_generator, epochs=80)"
      ],
      "execution_count": null,
      "outputs": []
    },
    {
      "cell_type": "code",
      "metadata": {
        "id": "53QQN9vIRpFd",
        "outputId": "a57c2d4c-be7a-4431-8fca-4aaed23913c8",
        "colab": {
          "base_uri": "https://localhost:8080/"
        }
      },
      "source": [
        "predictions = [model.predict(x) for x in test_generator]\n",
        "print(classification_report([z for _, y in test_generator for x in y for z in x], [np.argmax(z) for y in predictions for x in y for z in x], target_names=['no_structure', 'alpha_helix', 'beta_sheet']))"
      ],
      "execution_count": 169,
      "outputs": [
        {
          "output_type": "stream",
          "text": [
            "              precision    recall  f1-score   support\n",
            "\n",
            "no_structure       0.64      0.85      0.73      1923\n",
            " alpha_helix       0.49      0.37      0.42       849\n",
            "  beta_sheet       0.46      0.21      0.29       748\n",
            "\n",
            "    accuracy                           0.60      3520\n",
            "   macro avg       0.53      0.48      0.48      3520\n",
            "weighted avg       0.57      0.60      0.56      3520\n",
            "\n"
          ],
          "name": "stdout"
        }
      ]
    },
    {
      "cell_type": "markdown",
      "metadata": {
        "id": "OHc-UTF0UWEk"
      },
      "source": [
        "We've got a moderate increase from the biLSTM and could likely chase a significantly larger increase with refinement of the architecture and training regime. At this point our model is sufficiently accurate to be worth looking at the embeddings."
      ]
    },
    {
      "cell_type": "code",
      "metadata": {
        "id": "ZQLimB6jUwAl"
      },
      "source": [
        "from sklearn.decomposition import PCA\n",
        "\n",
        "pca = PCA(2)\n",
        "embedding_array = model.layers[0].get_weights()[0]\n",
        "embedding_2d = pca.fit_transform(embedding_array)"
      ],
      "execution_count": 184,
      "outputs": []
    },
    {
      "cell_type": "code",
      "metadata": {
        "id": "f3rX2wAZVctf",
        "outputId": "4850f4b0-a241-416b-cb5d-aac013ac4159",
        "colab": {
          "base_uri": "https://localhost:8080/",
          "height": 282
        }
      },
      "source": [
        "import matplotlib.pyplot as plt\n",
        "\n",
        "plt.scatter(embedding_2d[:, 0], embedding_2d[:, 1])"
      ],
      "execution_count": 185,
      "outputs": [
        {
          "output_type": "execute_result",
          "data": {
            "text/plain": [
              "<matplotlib.collections.PathCollection at 0x7f1051122ba8>"
            ]
          },
          "metadata": {
            "tags": []
          },
          "execution_count": 185
        },
        {
          "output_type": "display_data",
          "data": {
            "image/png": "[encoded data removed]",
            "text/plain": [
              "<Figure size 432x288 with 1 Axes>"
            ]
          },
          "metadata": {
            "tags": [],
            "needs_background": "light"
          }
        }
      ]
    },
    {
      "cell_type": "code",
      "metadata": {
        "id": "tD9m_Lh_VfMA"
      },
      "source": [
        ""
      ],
      "execution_count": null,
      "outputs": []
    }
  ]
}