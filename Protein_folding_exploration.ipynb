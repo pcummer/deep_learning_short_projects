{
  "nbformat": 4,
  "nbformat_minor": 0,
  "metadata": {
    "colab": {
      "name": "Protein_folding_exploration.ipynb",
      "provenance": [],
      "authorship_tag": "ABX9TyO7AQ6NkmLyirm64V3Jk15u",
      "include_colab_link": true
    },
    "kernelspec": {
      "name": "python3",
      "display_name": "Python 3"
    }
  },
  "cells": [
    {
      "cell_type": "markdown",
      "metadata": {
        "id": "view-in-github",
        "colab_type": "text"
      },
      "source": [
        "<a href=\"https://colab.research.google.com/github/pcummer/deep_learning_short_projects/blob/main/Protein_folding_exploration.ipynb\" target=\"_parent\"><img src=\"https://colab.research.google.com/assets/colab-badge.svg\" alt=\"Open In Colab\"/></a>"
      ]
    },
    {
      "cell_type": "code",
      "metadata": {
        "id": "PK-hBf0ndpvf",
        "outputId": "f1998560-edd6-402c-bf8c-817fa14603c4",
        "colab": {
          "base_uri": "https://localhost:8080/"
        }
      },
      "source": [
        "!wget https://archive.ics.uci.edu/ml/machine-learning-databases/molecular-biology/protein-secondary-structure/protein-secondary-structure.train\n",
        "!wget https://archive.ics.uci.edu/ml/machine-learning-databases/molecular-biology/protein-secondary-structure/protein-secondary-structure.test"
      ],
      "execution_count": 2,
      "outputs": [
        {
          "output_type": "stream",
          "text": [
            "--2020-11-13 13:25:04--  https://archive.ics.uci.edu/ml/machine-learning-databases/molecular-biology/protein-secondary-structure/protein-secondary-structure.train\n",
            "Resolving archive.ics.uci.edu (archive.ics.uci.edu)... 128.195.10.252\n",
            "Connecting to archive.ics.uci.edu (archive.ics.uci.edu)|128.195.10.252|:443... connected.\n",
            "HTTP request sent, awaiting response... 200 OK\n",
            "Length: 73489 (72K) [application/x-httpd-php]\n",
            "Saving to: ‘protein-secondary-structure.train’\n",
            "\n",
            "protein-secondary-s 100%[===================>]  71.77K  --.-KB/s    in 0.1s    \n",
            "\n",
            "2020-11-13 13:25:04 (697 KB/s) - ‘protein-secondary-structure.train’ saved [73489/73489]\n",
            "\n",
            "--2020-11-13 13:25:04--  https://archive.ics.uci.edu/ml/machine-learning-databases/molecular-biology/protein-secondary-structure/protein-secondary-structure.test\n",
            "Resolving archive.ics.uci.edu (archive.ics.uci.edu)... 128.195.10.252\n",
            "Connecting to archive.ics.uci.edu (archive.ics.uci.edu)|128.195.10.252|:443... connected.\n",
            "HTTP request sent, awaiting response... 200 OK\n",
            "Length: 14586 (14K) [application/x-httpd-php]\n",
            "Saving to: ‘protein-secondary-structure.test’\n",
            "\n",
            "protein-secondary-s 100%[===================>]  14.24K  --.-KB/s    in 0.05s   \n",
            "\n",
            "2020-11-13 13:25:05 (279 KB/s) - ‘protein-secondary-structure.test’ saved [14586/14586]\n",
            "\n"
          ],
          "name": "stdout"
        }
      ]
    },
    {
      "cell_type": "code",
      "metadata": {
        "id": "H4qbPeYxeTwn"
      },
      "source": [
        "import pandas as pd\n",
        "import numpy as np\n",
        "\n",
        "def parse_to_df(path):\n",
        "  with open(path,'r') as f:\n",
        "    content = f.readlines()\n",
        "  df = pd.DataFrame()\n",
        "  protein_count = 0\n",
        "  amino_acids = []\n",
        "  structure = []\n",
        "  for i in content:\n",
        "    i = i.strip()\n",
        "    if 'end' in i:\n",
        "        df = df.append(pd.DataFrame({'amino_acid':[amino_acids], 'structure':[structure], 'protein_count':[protein_count]}))\n",
        "        protein_count += 1\n",
        "        amino_acids = []\n",
        "        structure = []\n",
        "    elif len(i) == 3:\n",
        "      amino_acids.append(i.split(' ')[0])\n",
        "      structure.append(i.split(' ')[1])\n",
        "  return df"
      ],
      "execution_count": 10,
      "outputs": []
    },
    {
      "cell_type": "markdown",
      "metadata": {
        "id": "dYiBkP1H9cU9"
      },
      "source": [
        "Here we load the text files for the train and test splits into easily accessed dataframes. We also also assign an index to each amino acid and structure to replace the text character."
      ]
    },
    {
      "cell_type": "code",
      "metadata": {
        "id": "fcdRguigfH6z"
      },
      "source": [
        "df_train_raw = parse_to_df('/content/protein-secondary-structure.train')\n",
        "df_test_raw = parse_to_df('/content/protein-secondary-structure.test')\n",
        "\n",
        "\n",
        "unique_amino_acids_in_train = np.unique([item for sublist in df_train_raw.amino_acid for item in sublist])\n",
        "unique_amino_acids_in_test = np.unique([item for sublist in df_test_raw.amino_acid for item in sublist])\n",
        "[unique_amino_acids_in_train.append(x) for x in unique_amino_acids_in_test if x not in unique_amino_acids_in_train]\n",
        "\n",
        "amino_acid_to_index = {}\n",
        "i=0\n",
        "for x in unique_amino_acids_in_train:\n",
        "  i += 1\n",
        "  amino_acid_to_index[x] = i\n",
        "\n",
        "structure_to_index = {'_': 0, 'h': 1, 'e': 2}\n",
        "\n",
        "df_train_raw['amino_acid_index'] = [[amino_acid_to_index[x] for x in y] for y in df_train_raw.amino_acid]\n",
        "df_test_raw['amino_acid_index'] = [[amino_acid_to_index[x] for x in y] for y in df_test_raw.amino_acid]\n",
        "df_train_raw['structure_index'] = [[structure_to_index[x] for x in y] for y in df_train_raw.structure]\n",
        "df_test_raw['structure_index'] = [[structure_to_index[x] for x in y] for y in df_test_raw.structure]"
      ],
      "execution_count": 11,
      "outputs": []
    },
    {
      "cell_type": "code",
      "metadata": {
        "id": "DDNK5X0C9_gj"
      },
      "source": [
        "class basicGenerator(tf.keras.utils.Sequence):\n",
        "    def __init__(self, df, shuffle=True, batch_size=1):\n",
        "      self.df = df\n",
        "      self.shuffle = shuffle\n",
        "      self.batch_size = batch_size\n",
        "      self.on_epoch_end()\n",
        "\n",
        "    def __len__(self):\n",
        "        return int(np.floor(len(self.df) / self.batch_size))\n",
        "\n",
        "    def on_epoch_end(self):\n",
        "        if self.shuffle:\n",
        "            self.df = self.df.sample(frac=1.0)\n",
        "\n",
        "    def __getitem__(self, index):\n",
        "        indexes = np.arange(index * self.batch_size, (index + 1) * self.batch_size)\n",
        "        batch_input = []\n",
        "        batch_target = []\n",
        "        for i in indexes:\n",
        "            amino_acid_sequence = self.df.amino_acid_index.iloc[i]\n",
        "            label_sequence = self.df.structure_index.iloc[i]\n",
        "            batch_input.append(amino_acid_sequence)\n",
        "            batch_target.append(label_sequence)\n",
        "\n",
        "        batch_input = np.stack(batch_input)\n",
        "        batch_target = np.array(batch_target)\n",
        "\n",
        "        return batch_input, batch_target\n"
      ],
      "execution_count": 84,
      "outputs": []
    },
    {
      "cell_type": "code",
      "metadata": {
        "id": "yGAlvDB3_Gep"
      },
      "source": [
        "train_generator = basicGenerator(df_train_raw)\n",
        "test_generator = basicGenerator(df_test_raw)"
      ],
      "execution_count": 87,
      "outputs": []
    },
    {
      "cell_type": "markdown",
      "metadata": {
        "id": "cRNIT1dh90gx"
      },
      "source": [
        "Here we test a toy model to confirm that our data loading and formatting has worked as expected."
      ]
    },
    {
      "cell_type": "code",
      "metadata": {
        "id": "d85VeJeR1z8_"
      },
      "source": [
        "import tensorflow as tf\n",
        "\n",
        "input = tf.keras.layers.Input((None, 1))\n",
        "output = tf.keras.layers.LSTM(3, return_sequences=True, activation='sigmoid')(input)\n",
        "\n",
        "toy_model = tf.keras.models.Model(inputs=[input], outputs=[output])\n",
        "toy_model.compile(optimizer='adam', loss='sparse_categorical_crossentropy', metrics=['acc'])"
      ],
      "execution_count": 90,
      "outputs": []
    },
    {
      "cell_type": "code",
      "metadata": {
        "id": "uZ3PMdAM3blm",
        "outputId": "e4edf7f9-91ae-44af-bf19-6a8804a75ff5",
        "colab": {
          "base_uri": "https://localhost:8080/"
        }
      },
      "source": [
        "toy_model.fit(train_generator, validation_data=test_generator, epochs=10)"
      ],
      "execution_count": 91,
      "outputs": [
        {
          "output_type": "stream",
          "text": [
            "Epoch 1/10\n",
            "91/91 [==============================] - 4s 49ms/step - loss: 2.3882 - acc: 0.2089 - val_loss: 1.9808 - val_acc: 0.2381\n",
            "Epoch 2/10\n",
            "91/91 [==============================] - 4s 42ms/step - loss: 1.8434 - acc: 0.2563 - val_loss: 1.5504 - val_acc: 0.3020\n",
            "Epoch 3/10\n",
            "91/91 [==============================] - 4s 42ms/step - loss: 1.4840 - acc: 0.3594 - val_loss: 1.3002 - val_acc: 0.4341\n",
            "Epoch 4/10\n",
            "91/91 [==============================] - 4s 42ms/step - loss: 1.2502 - acc: 0.5184 - val_loss: 1.1248 - val_acc: 0.5460\n",
            "Epoch 5/10\n",
            "91/91 [==============================] - 4s 42ms/step - loss: 1.0855 - acc: 0.5444 - val_loss: 1.0499 - val_acc: 0.5403\n",
            "Epoch 6/10\n",
            "91/91 [==============================] - 4s 42ms/step - loss: 1.0219 - acc: 0.5401 - val_loss: 1.0216 - val_acc: 0.5355\n",
            "Epoch 7/10\n",
            "91/91 [==============================] - 4s 42ms/step - loss: 1.0010 - acc: 0.5325 - val_loss: 1.0147 - val_acc: 0.5321\n",
            "Epoch 8/10\n",
            "91/91 [==============================] - 4s 41ms/step - loss: 0.9958 - acc: 0.5293 - val_loss: 1.0162 - val_acc: 0.5315\n",
            "Epoch 9/10\n",
            "91/91 [==============================] - 4s 43ms/step - loss: 0.9956 - acc: 0.5289 - val_loss: 1.0136 - val_acc: 0.5327\n",
            "Epoch 10/10\n",
            "91/91 [==============================] - 4s 42ms/step - loss: 0.9944 - acc: 0.5348 - val_loss: 1.0134 - val_acc: 0.5361\n"
          ],
          "name": "stdout"
        },
        {
          "output_type": "execute_result",
          "data": {
            "text/plain": [
              "<tensorflow.python.keras.callbacks.History at 0x7f107e882470>"
            ]
          },
          "metadata": {
            "tags": []
          },
          "execution_count": 91
        }
      ]
    }
  ]
}